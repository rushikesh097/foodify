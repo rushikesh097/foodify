{
 "cells": [
  {
   "cell_type": "code",
   "execution_count": 1,
   "id": "479dd8f9",
   "metadata": {},
   "outputs": [],
   "source": [
    "import pandas as pd\n",
    "from sklearn.feature_extraction.text import TfidfVectorizer\n",
    "import joblib"
   ]
  },
  {
   "cell_type": "code",
   "execution_count": 2,
   "id": "fd886476",
   "metadata": {},
   "outputs": [
    {
     "name": "stdout",
     "output_type": "stream",
     "text": [
      "<class 'pandas.core.frame.DataFrame'>\n",
      "RangeIndex: 5000 entries, 0 to 4999\n",
      "Data columns (total 2 columns):\n",
      " #   Column                Non-Null Count  Dtype \n",
      "---  ------                --------------  ----- \n",
      " 0   TranslatedRecipeName  5000 non-null   object\n",
      " 1   ingredients_parsed    5000 non-null   object\n",
      "dtypes: object(2)\n",
      "memory usage: 78.2+ KB\n"
     ]
    }
   ],
   "source": [
    "df = pd.read_csv(\"./Cleaned_Indian_Food_Dataset.csv\", nrows=5000)\n",
    "df.info()"
   ]
  },
  {
   "cell_type": "code",
   "execution_count": 3,
   "id": "9d933fea",
   "metadata": {},
   "outputs": [],
   "source": [
    "df = df.dropna()"
   ]
  },
  {
   "cell_type": "code",
   "execution_count": 4,
   "id": "e8fdbd20",
   "metadata": {},
   "outputs": [],
   "source": [
    "df_ing_parsed = df[\"ingredients_parsed\"].values.astype(\"U\")"
   ]
  },
  {
   "cell_type": "code",
   "execution_count": 5,
   "id": "15cc186b",
   "metadata": {},
   "outputs": [
    {
     "data": {
      "text/plain": [
       "array(['amchur karela chilli powder gram flour onion cumin coriander powder turmeric powder sunflower',\n",
       "       'tomato chickpea lentils chilli rice mustard bc belle bhat powder chilli cashew peanuts oilasafoetida cumin urad dal',\n",
       "       'rice vermicelli noodles asafoetida mustard ghee peas carrot curry urad dal onion lemon chillies',\n",
       "       ...,\n",
       "       'powder milk peanut buttersmooth peanut butter crunc peanut butter flour',\n",
       "       'arhar dal coconut mustard mixed vegetables curry urad dal chillies cumin coconut turmeric powder',\n",
       "       'tomato cumin powder arhar dal ginger pepper powder mustard ghee asafoetida jaggery mango curry coriander cumin lemon coriander powder turmeric powder chillies'],\n",
       "      dtype='<U340')"
      ]
     },
     "execution_count": 5,
     "metadata": {},
     "output_type": "execute_result"
    }
   ],
   "source": [
    "df_ing_parsed"
   ]
  },
  {
   "cell_type": "code",
   "execution_count": 6,
   "id": "f3745cf7",
   "metadata": {},
   "outputs": [],
   "source": [
    "vectorizer = TfidfVectorizer()"
   ]
  },
  {
   "cell_type": "code",
   "execution_count": 7,
   "id": "dd5a536d",
   "metadata": {},
   "outputs": [],
   "source": [
    "tfidf_recipe = vectorizer.fit_transform(df_ing_parsed)"
   ]
  },
  {
   "cell_type": "code",
   "execution_count": 8,
   "id": "b03b5a6e",
   "metadata": {},
   "outputs": [
    {
     "data": {
      "text/plain": [
       "['./tfidf_recipe.pkl']"
      ]
     },
     "execution_count": 8,
     "metadata": {},
     "output_type": "execute_result"
    }
   ],
   "source": [
    "joblib.dump(tfidf_recipe, \"./tfidf_recipe.pkl\")"
   ]
  },
  {
   "cell_type": "code",
   "execution_count": 9,
   "id": "4c9ef9fe",
   "metadata": {},
   "outputs": [
    {
     "data": {
      "text/plain": [
       "['./vectorizer.pkl']"
      ]
     },
     "execution_count": 9,
     "metadata": {},
     "output_type": "execute_result"
    }
   ],
   "source": [
    "joblib.dump(vectorizer, \"./vectorizer.pkl\")"
   ]
  },
  {
   "cell_type": "code",
   "execution_count": 10,
   "id": "ffba0144",
   "metadata": {},
   "outputs": [],
   "source": [
    "from sklearn.metrics.pairwise import cosine_similarity"
   ]
  },
  {
   "cell_type": "code",
   "execution_count": 11,
   "id": "28017a96",
   "metadata": {},
   "outputs": [
    {
     "data": {
      "text/plain": [
       "(5000, 1780)"
      ]
     },
     "execution_count": 11,
     "metadata": {},
     "output_type": "execute_result"
    }
   ],
   "source": [
    "tfidf_recipe.shape"
   ]
  },
  {
   "cell_type": "code",
   "execution_count": 12,
   "id": "6dc7eaca",
   "metadata": {},
   "outputs": [],
   "source": [
    "cosine_sim = cosine_similarity(tfidf_recipe, tfidf_recipe)"
   ]
  },
  {
   "cell_type": "code",
   "execution_count": 13,
   "id": "6598e601",
   "metadata": {},
   "outputs": [
    {
     "name": "stdout",
     "output_type": "stream",
     "text": [
      "[[1.         0.06887159 0.024998   ... 0.04576724 0.1012628  0.29710631]\n",
      " [0.06887159 1.         0.11897308 ... 0.00366424 0.13787823 0.11843156]\n",
      " [0.024998   0.11897308 1.         ... 0.         0.26001135 0.27212061]\n",
      " ...\n",
      " [0.04576724 0.00366424 0.         ... 1.         0.00616631 0.02404231]\n",
      " [0.1012628  0.13787823 0.26001135 ... 0.00616631 1.         0.41333939]\n",
      " [0.29710631 0.11843156 0.27212061 ... 0.02404231 0.41333939 1.        ]]\n"
     ]
    }
   ],
   "source": [
    "print(cosine_sim)"
   ]
  },
  {
   "cell_type": "code",
   "execution_count": 14,
   "id": "510aa653",
   "metadata": {},
   "outputs": [],
   "source": [
    "import numpy as np"
   ]
  },
  {
   "cell_type": "code",
   "execution_count": 26,
   "id": "0f8323a3",
   "metadata": {},
   "outputs": [],
   "source": [
    "def recommend(strOfIngredients):\n",
    "\n",
    "    ing_v = vectorizer.transform([strOfIngredients])\n",
    "    \n",
    "    similarity_list = cosine_similarity(ing_v, tfidf_recipe)\n",
    "    \n",
    "    sorted_indexes = np.argsort(similarity_list[0])[::-1]\n",
    "    \n",
    "    return df['TranslatedRecipeName'].iloc[sorted_indexes].values[0:50]"
   ]
  },
  {
   "cell_type": "code",
   "execution_count": 27,
   "id": "c6b46698",
   "metadata": {},
   "outputs": [
    {
     "name": "stdout",
     "output_type": "stream",
     "text": [
      "['Masala Karela Recipe' 'Bitter Gourd Peel Puri Recipe'\n",
      " 'Crispy Vegetable Recipe - Crispy Bhujia'\n",
      " 'Bitter gourd spice vegetable recipe'\n",
      " 'Karela Aur Baingan Ki Sabzi Recipe - Bitter Gourd Brinjal Sabzi'\n",
      " 'Bihari Bitter Gourd Potato Vegetable Recipe' 'Bitter Gourd Chips Recipe'\n",
      " 'Kare Badge Badge Papa Badge Badge Badge |'\n",
      " 'Karela Thepla Recipe - Bitter Gourd Indian Flat Bread'\n",
      " 'Bhopli Mirchi Chi Peeth Perun Bhaji Recipe'\n",
      " 'Andhra Style Kakarakaya Vepudu Recipe - Bitter Gourd Stir Fry'\n",
      " 'Vendakkai Varuval Recipe - Tamil Nadu Style Okra Stir Fry'\n",
      " 'Kaju Karela Recipe - Bitter Gourd And Cashew Nuts Stir Fry'\n",
      " 'Rajasthani Style Dried Gatta Capsicum Vegetable Recipe'\n",
      " 'Rajasthani Ghasela recipe - Besan Ka Pitta (Recipe in Hindi)'\n",
      " 'Stuffed Butter Recipe - Stuffed Spice Gravy'\n",
      " 'Rajma Aloo Cutlet Recipe (Tikki / Patty)'\n",
      " 'Beguni Recipe - Baingan/Eggplant Pakora'\n",
      " 'Karela Muthia Recipe - Bitter Gourd Steamed Dumplings'\n",
      " 'Karatyacho Fodi Recipe - Pan Fried Bitter Gourd'\n",
      " 'Spinach Thalipeeth Recipe'\n",
      " 'Besan Arbi Roast Recipe - Spicy Colocasia Stir Fry'\n",
      " 'Dahi Wali Singhare Ki Sabzi Recipe' 'Spicy Baby Potatoes Recipe'\n",
      " 'Chicken Pakora Recipe - Chicken Fritters'\n",
      " 'Stuffed Karela With Aloo Recipe'\n",
      " 'Dubuk Vade Recipe - Khandeshi Gram Flour Dumpling Curry'\n",
      " 'Bitter Gourd Juice Recipe - Karela Juice' 'Velvet Rajma Kebab Recipe'\n",
      " 'Jowar Atta Pyaz Thepla Recipe – Sorghum Wheat Onion Thepla'\n",
      " 'Zunka Recipes (Spicy Gram Flour)'\n",
      " 'Jeera Hing Aloo Recipe - No Onion No Garlic Recipe'\n",
      " 'Rajasthani Mirchi Bada Recipe - Chilli Fritters'\n",
      " 'Gram flour and Chilli vegetable recipe'\n",
      " 'Dahi Wale Aloo Recipe (Indian Yogurt-based Potato Curry)'\n",
      " 'Bihari Green Peas Bharbhara Recipe'\n",
      " 'Arbi Ke Patte Ke Pakode - Colocasia Leaf Rolls Recipe'\n",
      " 'Awadhi Style Kathal Ke Kebab Recipe- Raw Jackfruit Kebabs'\n",
      " 'Ringan Methi Nu Shaak Recipe - Gujarati Style Eggplant & Fenugreek Leaves Sabzi'\n",
      " 'Bihari Green Peas Bharbhara (Recipe in Hindi)'\n",
      " 'Traditional Maharashtrian Bhakarwadi Recipe'\n",
      " 'Paneer and Green Peas Paratha Recipe' 'Stuffed Arbi Paratha Recipe'\n",
      " 'Jhunka Vadi Recipe - North Karnataka/Maharashtrian Speciality'\n",
      " ' Spicy Gram Flour Sabzi (Recipe In Hindi)'\n",
      " 'Gujarati Lasaniya Batata Recipe - Garlic Potato Curry'\n",
      " 'Tawa Amritsari Kulcha Recipe'\n",
      " 'Kela Matar ki Sabzi Recipe - Raw Banana Green Peas Stir Fry'\n",
      " 'Tandoori Paneer Samosa Recipe - With Baked Option'\n",
      " 'Egg Pakora Recipe - Egg Fritters']\n"
     ]
    }
   ],
   "source": [
    "print(recommend(\"amchur karela chilli powder gram flour onion cumin coriander powder turmeric powder sunflower\"))"
   ]
  },
  {
   "cell_type": "code",
   "execution_count": null,
   "id": "9d4ee1df",
   "metadata": {},
   "outputs": [],
   "source": []
  }
 ],
 "metadata": {
  "kernelspec": {
   "display_name": "Python 3 (ipykernel)",
   "language": "python",
   "name": "python3"
  },
  "language_info": {
   "codemirror_mode": {
    "name": "ipython",
    "version": 3
   },
   "file_extension": ".py",
   "mimetype": "text/x-python",
   "name": "python",
   "nbconvert_exporter": "python",
   "pygments_lexer": "ipython3",
   "version": "3.8.0"
  }
 },
 "nbformat": 4,
 "nbformat_minor": 5
}
