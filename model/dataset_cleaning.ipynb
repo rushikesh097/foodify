{
 "cells": [
  {
   "cell_type": "code",
   "execution_count": 28,
   "id": "93b9828e",
   "metadata": {},
   "outputs": [],
   "source": [
    "import pandas as pd\n",
    "import string\n",
    "import nltk\n",
    "import re"
   ]
  },
  {
   "cell_type": "code",
   "execution_count": 29,
   "id": "6800354c",
   "metadata": {},
   "outputs": [
    {
     "name": "stderr",
     "output_type": "stream",
     "text": [
      "[nltk_data] Downloading package stopwords to\n",
      "[nltk_data]     C:\\Users\\91959\\AppData\\Roaming\\nltk_data...\n",
      "[nltk_data]   Package stopwords is already up-to-date!\n"
     ]
    },
    {
     "data": {
      "text/plain": [
       "True"
      ]
     },
     "execution_count": 29,
     "metadata": {},
     "output_type": "execute_result"
    }
   ],
   "source": [
    "recipe_ingredients = pd.read_csv('./Cleaned_Indian_Food_Dataset.csv')\n",
    "nltk.download('stopwords')"
   ]
  },
  {
   "cell_type": "code",
   "execution_count": 30,
   "id": "5898e977",
   "metadata": {},
   "outputs": [
    {
     "data": {
      "text/plain": [
       "(5938, 9)"
      ]
     },
     "execution_count": 30,
     "metadata": {},
     "output_type": "execute_result"
    }
   ],
   "source": [
    "recipe_ingredients.shape"
   ]
  },
  {
   "cell_type": "code",
   "execution_count": 31,
   "id": "b81879ca",
   "metadata": {},
   "outputs": [],
   "source": [
    "recipe_ingredients = recipe_ingredients.drop(columns=[\"image-url\", \"Ingredient-count\",\"URL\",\"TotalTimeInMins\",\"TranslatedInstructions\"])"
   ]
  },
  {
   "cell_type": "code",
   "execution_count": 32,
   "id": "9d34fb4f",
   "metadata": {},
   "outputs": [
    {
     "data": {
      "text/html": [
       "<div>\n",
       "<style scoped>\n",
       "    .dataframe tbody tr th:only-of-type {\n",
       "        vertical-align: middle;\n",
       "    }\n",
       "\n",
       "    .dataframe tbody tr th {\n",
       "        vertical-align: top;\n",
       "    }\n",
       "\n",
       "    .dataframe thead th {\n",
       "        text-align: right;\n",
       "    }\n",
       "</style>\n",
       "<table border=\"1\" class=\"dataframe\">\n",
       "  <thead>\n",
       "    <tr style=\"text-align: right;\">\n",
       "      <th></th>\n",
       "      <th>TranslatedRecipeName</th>\n",
       "      <th>TranslatedIngredients</th>\n",
       "      <th>Cuisine</th>\n",
       "      <th>Cleaned-Ingredients</th>\n",
       "    </tr>\n",
       "  </thead>\n",
       "  <tbody>\n",
       "    <tr>\n",
       "      <th>0</th>\n",
       "      <td>Masala Karela Recipe</td>\n",
       "      <td>1 tablespoon Red Chilli powder,3 tablespoon Gr...</td>\n",
       "      <td>Indian</td>\n",
       "      <td>salt,amchur (dry mango powder),karela (bitter ...</td>\n",
       "    </tr>\n",
       "    <tr>\n",
       "      <th>1</th>\n",
       "      <td>Spicy Tomato Rice (Recipe)</td>\n",
       "      <td>2 teaspoon cashew - or peanuts, 1/2 Teaspoon ...</td>\n",
       "      <td>South Indian Recipes</td>\n",
       "      <td>tomato,salt,chickpea lentils,green chilli,rice...</td>\n",
       "    </tr>\n",
       "    <tr>\n",
       "      <th>2</th>\n",
       "      <td>Ragi Semiya Upma Recipe - Ragi Millet Vermicel...</td>\n",
       "      <td>1 Onion - sliced,1 teaspoon White Urad Dal (Sp...</td>\n",
       "      <td>South Indian Recipes</td>\n",
       "      <td>salt,rice vermicelli noodles (thin),asafoetida...</td>\n",
       "    </tr>\n",
       "    <tr>\n",
       "      <th>3</th>\n",
       "      <td>Gongura Chicken Curry Recipe - Andhra Style Go...</td>\n",
       "      <td>1/2 teaspoon Turmeric powder (Haldi),1 tablesp...</td>\n",
       "      <td>Andhra</td>\n",
       "      <td>tomato,salt,ginger,sorrel leaves (gongura),fen...</td>\n",
       "    </tr>\n",
       "    <tr>\n",
       "      <th>4</th>\n",
       "      <td>Andhra Style Alam Pachadi Recipe - Adrak Chutn...</td>\n",
       "      <td>oil - as per use, 1 tablespoon coriander seed...</td>\n",
       "      <td>Andhra</td>\n",
       "      <td>tomato,salt,ginger,red chillies,curry,asafoeti...</td>\n",
       "    </tr>\n",
       "  </tbody>\n",
       "</table>\n",
       "</div>"
      ],
      "text/plain": [
       "                                TranslatedRecipeName  \\\n",
       "0                               Masala Karela Recipe   \n",
       "1                         Spicy Tomato Rice (Recipe)   \n",
       "2  Ragi Semiya Upma Recipe - Ragi Millet Vermicel...   \n",
       "3  Gongura Chicken Curry Recipe - Andhra Style Go...   \n",
       "4  Andhra Style Alam Pachadi Recipe - Adrak Chutn...   \n",
       "\n",
       "                               TranslatedIngredients               Cuisine  \\\n",
       "0  1 tablespoon Red Chilli powder,3 tablespoon Gr...                Indian   \n",
       "1   2 teaspoon cashew - or peanuts, 1/2 Teaspoon ...  South Indian Recipes   \n",
       "2  1 Onion - sliced,1 teaspoon White Urad Dal (Sp...  South Indian Recipes   \n",
       "3  1/2 teaspoon Turmeric powder (Haldi),1 tablesp...                Andhra   \n",
       "4   oil - as per use, 1 tablespoon coriander seed...                Andhra   \n",
       "\n",
       "                                 Cleaned-Ingredients  \n",
       "0  salt,amchur (dry mango powder),karela (bitter ...  \n",
       "1  tomato,salt,chickpea lentils,green chilli,rice...  \n",
       "2  salt,rice vermicelli noodles (thin),asafoetida...  \n",
       "3  tomato,salt,ginger,sorrel leaves (gongura),fen...  \n",
       "4  tomato,salt,ginger,red chillies,curry,asafoeti...  "
      ]
     },
     "execution_count": 32,
     "metadata": {},
     "output_type": "execute_result"
    }
   ],
   "source": [
    "recipe_ingredients.head()"
   ]
  },
  {
   "cell_type": "code",
   "execution_count": 33,
   "id": "85b2d6cb",
   "metadata": {},
   "outputs": [],
   "source": [
    "recipe_ingredients = recipe_ingredients.drop(columns=[\"Cuisine\",\"TranslatedIngredients\"])"
   ]
  },
  {
   "cell_type": "code",
   "execution_count": 34,
   "id": "9816e0d3",
   "metadata": {},
   "outputs": [
    {
     "data": {
      "text/html": [
       "<div>\n",
       "<style scoped>\n",
       "    .dataframe tbody tr th:only-of-type {\n",
       "        vertical-align: middle;\n",
       "    }\n",
       "\n",
       "    .dataframe tbody tr th {\n",
       "        vertical-align: top;\n",
       "    }\n",
       "\n",
       "    .dataframe thead th {\n",
       "        text-align: right;\n",
       "    }\n",
       "</style>\n",
       "<table border=\"1\" class=\"dataframe\">\n",
       "  <thead>\n",
       "    <tr style=\"text-align: right;\">\n",
       "      <th></th>\n",
       "      <th>TranslatedRecipeName</th>\n",
       "      <th>Cleaned-Ingredients</th>\n",
       "    </tr>\n",
       "  </thead>\n",
       "  <tbody>\n",
       "    <tr>\n",
       "      <th>0</th>\n",
       "      <td>Masala Karela Recipe</td>\n",
       "      <td>salt,amchur (dry mango powder),karela (bitter ...</td>\n",
       "    </tr>\n",
       "    <tr>\n",
       "      <th>1</th>\n",
       "      <td>Spicy Tomato Rice (Recipe)</td>\n",
       "      <td>tomato,salt,chickpea lentils,green chilli,rice...</td>\n",
       "    </tr>\n",
       "    <tr>\n",
       "      <th>2</th>\n",
       "      <td>Ragi Semiya Upma Recipe - Ragi Millet Vermicel...</td>\n",
       "      <td>salt,rice vermicelli noodles (thin),asafoetida...</td>\n",
       "    </tr>\n",
       "    <tr>\n",
       "      <th>3</th>\n",
       "      <td>Gongura Chicken Curry Recipe - Andhra Style Go...</td>\n",
       "      <td>tomato,salt,ginger,sorrel leaves (gongura),fen...</td>\n",
       "    </tr>\n",
       "    <tr>\n",
       "      <th>4</th>\n",
       "      <td>Andhra Style Alam Pachadi Recipe - Adrak Chutn...</td>\n",
       "      <td>tomato,salt,ginger,red chillies,curry,asafoeti...</td>\n",
       "    </tr>\n",
       "  </tbody>\n",
       "</table>\n",
       "</div>"
      ],
      "text/plain": [
       "                                TranslatedRecipeName  \\\n",
       "0                               Masala Karela Recipe   \n",
       "1                         Spicy Tomato Rice (Recipe)   \n",
       "2  Ragi Semiya Upma Recipe - Ragi Millet Vermicel...   \n",
       "3  Gongura Chicken Curry Recipe - Andhra Style Go...   \n",
       "4  Andhra Style Alam Pachadi Recipe - Adrak Chutn...   \n",
       "\n",
       "                                 Cleaned-Ingredients  \n",
       "0  salt,amchur (dry mango powder),karela (bitter ...  \n",
       "1  tomato,salt,chickpea lentils,green chilli,rice...  \n",
       "2  salt,rice vermicelli noodles (thin),asafoetida...  \n",
       "3  tomato,salt,ginger,sorrel leaves (gongura),fen...  \n",
       "4  tomato,salt,ginger,red chillies,curry,asafoeti...  "
      ]
     },
     "execution_count": 34,
     "metadata": {},
     "output_type": "execute_result"
    }
   ],
   "source": [
    "recipe_ingredients.head()"
   ]
  },
  {
   "cell_type": "code",
   "execution_count": 35,
   "id": "20e5714f",
   "metadata": {},
   "outputs": [],
   "source": [
    "def ingredients_parser(recipe):\n",
    "    parsed_str = \" \".join(recipe.split(\",\"))\n",
    "    parsed_str = parsed_str.lower()\n",
    "    # Remove text between ()\n",
    "    parsed_str = re.sub(\"\\(.*?\\)\",\"\",parsed_str)\n",
    "    stopwords = nltk.corpus.stopwords.words(\"english\")\n",
    "    ingredients_sw = [\n",
    "        \"salt\", \"ground\", \"sugar\", \"chopped\", \"white\", \"oil\", \"fresh\", \"black\", \"taste\", \"water\", \"allpurpose\", \n",
    "        \"dried\", \"red\", \"green\", \"baking\", \"extract\", \"shredded\", \"sliced\", \"large\", \"vegetable\", \"brown\", \"diced\", \"grated\", \n",
    "        \"drained\", \"dry\", \"minced\", \"frozen\", \"mix\", \"soda\", \"fluid\", \"small\", \"cut\", \"skinless\", \"boneless\", \"seasoning\", \"cooked\", \n",
    "        \"hot\", \"cold\", \"packed\", \"soup\", \"ounce\", \"finely\", \"peeled\", \"condensed\", \"confectioners\", \"freshly\", \"heavy\", \"inch\", \"medium\", \n",
    "        \"sweet\", \"beaten\", \"prepared\", \"divided\", \"rinsed\", \"unsweetened\", \"cooking\", \"seeds\", \"dressing\", \"uncooked\", \"cubed\", \"ice\",\n",
    "        \"light\", \"pieces\", \"shortening\", \"thinly\", \"rasins\", \"head\", \"wheat\", \"halved\", \"unsalted\", \"instant\", \"ounces\", \"topping\", \"crumbled\", \n",
    "        \"spray\", \"melted\", \"flavored\", \"whipped\", \"stock\", \"lean\", \"whipping\", \"frying\", \"pitted\", \"seasoned\", \"sweetened\", \"warm\", \"sea\", \"extravirgin\", \"toasted\",\n",
    "        \"slices\", \"trimmed\", \"rolled\", \"flaked\", \"leaf\", \"mashed\", \"plain\", \"evaporated\", \"food\", \"roast\", \"bottle\", \"halfandhalf\", \"chunks\", \"smoked\", \"boiling\",\n",
    "        \"extra\", \"allspice\", \"seeded\", \"liquid\", \"thick\", \"garnish\", \"blend\", \"quartered\", \"refrigerated\", \"distilled\", \"roasted\", \"spice\", \"monterey\", \"softened\",\n",
    "        \"italianstyle\", \"dough\", \"squares\", \"weed\", \"round\", \"removed\", \"virgin\", \"lengthwise\", \"whole\", \"lowfat\", \"strips\", \"room\", \"bag\", \"thin\",\n",
    "        \"room\", \"temperature\", \"half\", \"concentrate\", \"torn\", \"hearts\", \"blue\", \"coloring\", \"thighs\", \"slivered\", \"undrained\", \"recipe\", \"fatfree\", \n",
    "        \"unbaked\", \"fat\", \"nonfat\", \"long\", \"greek\", \"cracked\", \"creme\", \"separated\", \"american\", \"broken\", \"smoked\", \"shell\", \"envelope\", \"dates\", \"powered\",\n",
    "        \"stuffing\", \"preserves\", \"rounds\", \"de\", \"squeezed\", \"quickcooking\", \"double\", \"crispy\", \"deep\", \"fine\", \"refried\", \"new\", \"and\", \"to\", \"into\", \"for\",\n",
    "        \"of\", \"with\", \"in\", \"baby\", \"a\", \"as\", \"quick\", \"raw\", \"at\", \"soft\", \"old\", \"very\", \"plus\", \"free\", \"ears\", \"such\", \"hair\", \"single\",\n",
    "        \"button\", \"top\", \"cod\", \"low\", \"leaves\"\n",
    "    ]\n",
    "    parsed_str = \" \".join([word for word in parsed_str.split() if word not in stopwords])\n",
    "    parsed_str = \" \".join([word for word in parsed_str.split() if word not in ingredients_sw])\n",
    "    return parsed_str"
   ]
  },
  {
   "cell_type": "code",
   "execution_count": 36,
   "id": "1bd0eff4",
   "metadata": {},
   "outputs": [],
   "source": [
    "recipe_ingredients[\"ingredients_parsed\"] = recipe_ingredients[\"Cleaned-Ingredients\"].apply(ingredients_parser)"
   ]
  },
  {
   "cell_type": "code",
   "execution_count": 37,
   "id": "f55bda11",
   "metadata": {},
   "outputs": [
    {
     "data": {
      "text/html": [
       "<div>\n",
       "<style scoped>\n",
       "    .dataframe tbody tr th:only-of-type {\n",
       "        vertical-align: middle;\n",
       "    }\n",
       "\n",
       "    .dataframe tbody tr th {\n",
       "        vertical-align: top;\n",
       "    }\n",
       "\n",
       "    .dataframe thead th {\n",
       "        text-align: right;\n",
       "    }\n",
       "</style>\n",
       "<table border=\"1\" class=\"dataframe\">\n",
       "  <thead>\n",
       "    <tr style=\"text-align: right;\">\n",
       "      <th></th>\n",
       "      <th>TranslatedRecipeName</th>\n",
       "      <th>Cleaned-Ingredients</th>\n",
       "      <th>ingredients_parsed</th>\n",
       "    </tr>\n",
       "  </thead>\n",
       "  <tbody>\n",
       "    <tr>\n",
       "      <th>0</th>\n",
       "      <td>Masala Karela Recipe</td>\n",
       "      <td>salt,amchur (dry mango powder),karela (bitter ...</td>\n",
       "      <td>amchur karela chilli powder gram flour onion c...</td>\n",
       "    </tr>\n",
       "    <tr>\n",
       "      <th>1</th>\n",
       "      <td>Spicy Tomato Rice (Recipe)</td>\n",
       "      <td>tomato,salt,chickpea lentils,green chilli,rice...</td>\n",
       "      <td>tomato chickpea lentils chilli rice mustard bc...</td>\n",
       "    </tr>\n",
       "    <tr>\n",
       "      <th>2</th>\n",
       "      <td>Ragi Semiya Upma Recipe - Ragi Millet Vermicel...</td>\n",
       "      <td>salt,rice vermicelli noodles (thin),asafoetida...</td>\n",
       "      <td>rice vermicelli noodles asafoetida mustard ghe...</td>\n",
       "    </tr>\n",
       "    <tr>\n",
       "      <th>3</th>\n",
       "      <td>Gongura Chicken Curry Recipe - Andhra Style Go...</td>\n",
       "      <td>tomato,salt,ginger,sorrel leaves (gongura),fen...</td>\n",
       "      <td>tomato ginger sorrel fennel sesame cloves garl...</td>\n",
       "    </tr>\n",
       "    <tr>\n",
       "      <th>4</th>\n",
       "      <td>Andhra Style Alam Pachadi Recipe - Adrak Chutn...</td>\n",
       "      <td>tomato,salt,ginger,red chillies,curry,asafoeti...</td>\n",
       "      <td>tomato ginger chillies curry asafoetida mustar...</td>\n",
       "    </tr>\n",
       "  </tbody>\n",
       "</table>\n",
       "</div>"
      ],
      "text/plain": [
       "                                TranslatedRecipeName  \\\n",
       "0                               Masala Karela Recipe   \n",
       "1                         Spicy Tomato Rice (Recipe)   \n",
       "2  Ragi Semiya Upma Recipe - Ragi Millet Vermicel...   \n",
       "3  Gongura Chicken Curry Recipe - Andhra Style Go...   \n",
       "4  Andhra Style Alam Pachadi Recipe - Adrak Chutn...   \n",
       "\n",
       "                                 Cleaned-Ingredients  \\\n",
       "0  salt,amchur (dry mango powder),karela (bitter ...   \n",
       "1  tomato,salt,chickpea lentils,green chilli,rice...   \n",
       "2  salt,rice vermicelli noodles (thin),asafoetida...   \n",
       "3  tomato,salt,ginger,sorrel leaves (gongura),fen...   \n",
       "4  tomato,salt,ginger,red chillies,curry,asafoeti...   \n",
       "\n",
       "                                  ingredients_parsed  \n",
       "0  amchur karela chilli powder gram flour onion c...  \n",
       "1  tomato chickpea lentils chilli rice mustard bc...  \n",
       "2  rice vermicelli noodles asafoetida mustard ghe...  \n",
       "3  tomato ginger sorrel fennel sesame cloves garl...  \n",
       "4  tomato ginger chillies curry asafoetida mustar...  "
      ]
     },
     "execution_count": 37,
     "metadata": {},
     "output_type": "execute_result"
    }
   ],
   "source": [
    "recipe_ingredients.head()"
   ]
  },
  {
   "cell_type": "code",
   "execution_count": 38,
   "id": "4de36c76",
   "metadata": {},
   "outputs": [
    {
     "data": {
      "text/plain": [
       "0       amchur karela chilli powder gram flour onion c...\n",
       "1       tomato chickpea lentils chilli rice mustard bc...\n",
       "2       rice vermicelli noodles asafoetida mustard ghe...\n",
       "3       tomato ginger sorrel fennel sesame cloves garl...\n",
       "4       tomato ginger chillies curry asafoetida mustar...\n",
       "                              ...                        \n",
       "5933    saffron strands generous ghee paneer rose card...\n",
       "5934    gorgonzola cheese cubes bread crumbs italian s...\n",
       "5935    ghee milk saffron strands cardamom powder quin...\n",
       "5936    tamarind mustard asafoetida gram flour spring ...\n",
       "5937    cardamom mustard ghee asafoetida bay curd fenn...\n",
       "Name: ingredients_parsed, Length: 5938, dtype: object"
      ]
     },
     "execution_count": 38,
     "metadata": {},
     "output_type": "execute_result"
    }
   ],
   "source": [
    "recipe_ingredients[\"ingredients_parsed\"]"
   ]
  },
  {
   "cell_type": "code",
   "execution_count": 41,
   "id": "d8852be5",
   "metadata": {},
   "outputs": [],
   "source": [
    "recipe_ingredients = recipe_ingredients.dropna()\n",
    "recipe_ingredients.drop(columns=[\"Cleaned-Ingredients\"]).to_csv(\"./Cleaned_Indian_Food_Dataset.csv\", index=False)"
   ]
  },
  {
   "cell_type": "code",
   "execution_count": 42,
   "id": "61e3e233",
   "metadata": {},
   "outputs": [
    {
     "data": {
      "text/html": [
       "<div>\n",
       "<style scoped>\n",
       "    .dataframe tbody tr th:only-of-type {\n",
       "        vertical-align: middle;\n",
       "    }\n",
       "\n",
       "    .dataframe tbody tr th {\n",
       "        vertical-align: top;\n",
       "    }\n",
       "\n",
       "    .dataframe thead th {\n",
       "        text-align: right;\n",
       "    }\n",
       "</style>\n",
       "<table border=\"1\" class=\"dataframe\">\n",
       "  <thead>\n",
       "    <tr style=\"text-align: right;\">\n",
       "      <th></th>\n",
       "      <th>TranslatedRecipeName</th>\n",
       "      <th>Cleaned-Ingredients</th>\n",
       "      <th>ingredients_parsed</th>\n",
       "    </tr>\n",
       "  </thead>\n",
       "  <tbody>\n",
       "    <tr>\n",
       "      <th>0</th>\n",
       "      <td>Masala Karela Recipe</td>\n",
       "      <td>salt,amchur (dry mango powder),karela (bitter ...</td>\n",
       "      <td>amchur karela chilli powder gram flour onion c...</td>\n",
       "    </tr>\n",
       "    <tr>\n",
       "      <th>1</th>\n",
       "      <td>Spicy Tomato Rice (Recipe)</td>\n",
       "      <td>tomato,salt,chickpea lentils,green chilli,rice...</td>\n",
       "      <td>tomato chickpea lentils chilli rice mustard bc...</td>\n",
       "    </tr>\n",
       "    <tr>\n",
       "      <th>2</th>\n",
       "      <td>Ragi Semiya Upma Recipe - Ragi Millet Vermicel...</td>\n",
       "      <td>salt,rice vermicelli noodles (thin),asafoetida...</td>\n",
       "      <td>rice vermicelli noodles asafoetida mustard ghe...</td>\n",
       "    </tr>\n",
       "    <tr>\n",
       "      <th>3</th>\n",
       "      <td>Gongura Chicken Curry Recipe - Andhra Style Go...</td>\n",
       "      <td>tomato,salt,ginger,sorrel leaves (gongura),fen...</td>\n",
       "      <td>tomato ginger sorrel fennel sesame cloves garl...</td>\n",
       "    </tr>\n",
       "    <tr>\n",
       "      <th>4</th>\n",
       "      <td>Andhra Style Alam Pachadi Recipe - Adrak Chutn...</td>\n",
       "      <td>tomato,salt,ginger,red chillies,curry,asafoeti...</td>\n",
       "      <td>tomato ginger chillies curry asafoetida mustar...</td>\n",
       "    </tr>\n",
       "  </tbody>\n",
       "</table>\n",
       "</div>"
      ],
      "text/plain": [
       "                                TranslatedRecipeName  \\\n",
       "0                               Masala Karela Recipe   \n",
       "1                         Spicy Tomato Rice (Recipe)   \n",
       "2  Ragi Semiya Upma Recipe - Ragi Millet Vermicel...   \n",
       "3  Gongura Chicken Curry Recipe - Andhra Style Go...   \n",
       "4  Andhra Style Alam Pachadi Recipe - Adrak Chutn...   \n",
       "\n",
       "                                 Cleaned-Ingredients  \\\n",
       "0  salt,amchur (dry mango powder),karela (bitter ...   \n",
       "1  tomato,salt,chickpea lentils,green chilli,rice...   \n",
       "2  salt,rice vermicelli noodles (thin),asafoetida...   \n",
       "3  tomato,salt,ginger,sorrel leaves (gongura),fen...   \n",
       "4  tomato,salt,ginger,red chillies,curry,asafoeti...   \n",
       "\n",
       "                                  ingredients_parsed  \n",
       "0  amchur karela chilli powder gram flour onion c...  \n",
       "1  tomato chickpea lentils chilli rice mustard bc...  \n",
       "2  rice vermicelli noodles asafoetida mustard ghe...  \n",
       "3  tomato ginger sorrel fennel sesame cloves garl...  \n",
       "4  tomato ginger chillies curry asafoetida mustar...  "
      ]
     },
     "execution_count": 42,
     "metadata": {},
     "output_type": "execute_result"
    }
   ],
   "source": [
    "recipe_ingredients.head()"
   ]
  },
  {
   "cell_type": "code",
   "execution_count": null,
   "id": "88c7b00e",
   "metadata": {},
   "outputs": [],
   "source": []
  }
 ],
 "metadata": {
  "kernelspec": {
   "display_name": "Python 3 (ipykernel)",
   "language": "python",
   "name": "python3"
  },
  "language_info": {
   "codemirror_mode": {
    "name": "ipython",
    "version": 3
   },
   "file_extension": ".py",
   "mimetype": "text/x-python",
   "name": "python",
   "nbconvert_exporter": "python",
   "pygments_lexer": "ipython3",
   "version": "3.8.0"
  }
 },
 "nbformat": 4,
 "nbformat_minor": 5
}
